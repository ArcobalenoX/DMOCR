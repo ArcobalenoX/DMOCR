{
 "metadata": {
  "language_info": {
   "codemirror_mode": {
    "name": "ipython",
    "version": 3
   },
   "file_extension": ".py",
   "mimetype": "text/x-python",
   "name": "python",
   "nbconvert_exporter": "python",
   "pygments_lexer": "ipython3",
   "version": "3.8.5-final"
  },
  "orig_nbformat": 2,
  "kernelspec": {
   "name": "python3",
   "display_name": "Python 3.8.5 64-bit ('tf2': conda)",
   "metadata": {
    "interpreter": {
     "hash": "21821df61ba933d8ae57ba2bdff813dc67baa1ef2af688867b71679e601300db"
    }
   }
  }
 },
 "nbformat": 4,
 "nbformat_minor": 2,
 "cells": [
  {
   "cell_type": "code",
   "execution_count": 2,
   "metadata": {},
   "outputs": [
    {
     "output_type": "error",
     "ename": "ModuleNotFoundError",
     "evalue": "No module named 'cv2'",
     "traceback": [
      "\u001b[1;31m---------------------------------------------------------------------------\u001b[0m",
      "\u001b[1;31mModuleNotFoundError\u001b[0m                       Traceback (most recent call last)",
      "\u001b[1;32m<ipython-input-2-6a78a7242cd2>\u001b[0m in \u001b[0;36m<module>\u001b[1;34m\u001b[0m\n\u001b[0;32m      1\u001b[0m \u001b[1;32mimport\u001b[0m \u001b[0mos\u001b[0m\u001b[1;33m\u001b[0m\u001b[1;33m\u001b[0m\u001b[0m\n\u001b[1;32m----> 2\u001b[1;33m \u001b[1;32mimport\u001b[0m \u001b[0mcv2\u001b[0m\u001b[1;33m\u001b[0m\u001b[1;33m\u001b[0m\u001b[0m\n\u001b[0m\u001b[0;32m      3\u001b[0m \u001b[1;32mimport\u001b[0m \u001b[0mnumpy\u001b[0m \u001b[1;32mas\u001b[0m \u001b[0mnp\u001b[0m\u001b[1;33m\u001b[0m\u001b[1;33m\u001b[0m\u001b[0m\n\u001b[0;32m      4\u001b[0m \u001b[1;32mfrom\u001b[0m \u001b[0mPIL\u001b[0m \u001b[1;32mimport\u001b[0m \u001b[0mImage\u001b[0m\u001b[1;33m,\u001b[0m\u001b[0mImageDraw\u001b[0m\u001b[1;33m\u001b[0m\u001b[1;33m\u001b[0m\u001b[0m\n\u001b[0;32m      5\u001b[0m \u001b[1;32mimport\u001b[0m \u001b[0mmatplotlib\u001b[0m\u001b[1;33m.\u001b[0m\u001b[0mpyplot\u001b[0m \u001b[1;32mas\u001b[0m \u001b[0mplt\u001b[0m\u001b[1;33m\u001b[0m\u001b[1;33m\u001b[0m\u001b[0m\n",
      "\u001b[1;31mModuleNotFoundError\u001b[0m: No module named 'cv2'"
     ]
    }
   ],
   "source": [
    "import os\n",
    "import cv2\n",
    "import numpy as np\n",
    "from PIL import Image,ImageDraw\n",
    "import matplotlib.pyplot as plt \n",
    "%matplotlib inline\n",
    "\n",
    "import tensorflow as tf\n",
    "import tensorflow.keras.backend as ktf\n",
    "from tensorflow.keras.applications.imagenet_utils import preprocess_input\n",
    "from tensorflow.keras.models import load_model,Model\n",
    "from tensorflow.keras.preprocessing import image\n",
    "\n",
    "from location.network import *\n",
    "from recognition.network import *\n",
    "from util import *\n",
    "import cfg\n"
   ]
  },
  {
   "cell_type": "code",
   "execution_count": null,
   "metadata": {},
   "outputs": [],
   "source": [
    "location_model = Location().location_network()\n",
    "location_model.load_weights(cfg.location_weights)\n",
    "_, recognition_model = CRNN(cfg.height, cfg.width,  cfg.label_len, cfg.characters).network()\n",
    "recognition_model.load_weights(cfg.recognition_weights)"
   ]
  },
  {
   "source": [
    "# 准确率计算"
   ],
   "cell_type": "markdown",
   "metadata": {}
  },
  {
   "cell_type": "code",
   "execution_count": null,
   "metadata": {},
   "outputs": [],
   "source": [
    "labels = 'labels.txt'\n",
    "def acc_calculate(labels='labels.txt',results='result.txt'):\n",
    "    with open(labels) as label:\n",
    "        linexs = label.readlines()\n",
    "    with open(results) as result:\n",
    "        lineys = result.readlines()\n",
    "    cnt = 0\n",
    "    for linex in linexs:\n",
    "        linex = linex.split()\n",
    "        for liney in lineys:\n",
    "            liney = liney.split()\n",
    "            if linex[0] == liney[0] and len(liney) > 1:\n",
    "                if linex[1] == liney[1]:\n",
    "                    cnt = cnt + 1\n",
    "    acc=cnt/len(lineys)\n",
    "    return  acc"
   ]
  },
  {
   "cell_type": "code",
   "execution_count": null,
   "metadata": {},
   "outputs": [],
   "source": [
    "acc_calculate('labels.txt',r'recognition\\result.txt')"
   ]
  },
  {
   "source": [
    "# 检测测试"
   ],
   "cell_type": "markdown",
   "metadata": {}
  },
  {
   "source": [
    "## 训练集"
   ],
   "cell_type": "markdown",
   "metadata": {}
  },
  {
   "cell_type": "code",
   "execution_count": null,
   "metadata": {},
   "outputs": [],
   "source": [
    "%%time\n",
    "results='east_train_result.txt'\n",
    "with open(results, 'w+') as txt:\n",
    "    with open(r'Z:\\Code\\Python\\datas\\Augment_meter\\east_train.txt') as val:\n",
    "        lines =val.readlines()\n",
    "        for line in lines:\n",
    "            img_name=line.split(',')[0]\n",
    "            img_path=os.path.join('Z:\\Code\\Python\\datas\\Augment_meter\\imgs_east_512',img_name)\n",
    "            ims_re = location(location_model, img_path, cfg.pixel_threshold)\n",
    "            if len(ims_re) > 0:\n",
    "                re_text = recognition(recognition_model, ims_re[0])\n",
    "                result =  img_name+ \" \" + re_text + \"\\n\"\n",
    "                #print(result)\n",
    "                txt.write(result)"
   ]
  },
  {
   "cell_type": "code",
   "execution_count": null,
   "metadata": {},
   "outputs": [],
   "source": [
    "acc=acc_calculate(labels,results)\n",
    "print('{0:.3%}'.format(acc))"
   ]
  },
  {
   "source": [
    "## 验证集"
   ],
   "cell_type": "markdown",
   "metadata": {}
  },
  {
   "cell_type": "code",
   "execution_count": null,
   "metadata": {},
   "outputs": [],
   "source": [
    "results='east_val_result.txt'"
   ]
  },
  {
   "cell_type": "code",
   "execution_count": null,
   "metadata": {},
   "outputs": [],
   "source": [
    "%%time\n",
    "with open(results, 'w+') as txt:\n",
    "    with open(r'Z:\\Code\\Python\\datas\\Augment_meter\\east_val.txt') as val:\n",
    "        lines =val.readlines()\n",
    "        for line in lines:\n",
    "            img_name=line.split(',')[0]\n",
    "            img_path=os.path.join('Z:\\Code\\Python\\datas\\Augment_meter\\imgs_east_512',img_name)\n",
    "            ims_re = location(location_model, img_path, cfg.pixel_threshold)\n",
    "            if len(ims_re) > 0:\n",
    "                for i in range(len(ims_re)):\n",
    "                    re_text = recognition(recognition_model, ims_re[i])\n",
    "                    result =  img_name+ \" \" + re_text + \"\\n\"\n",
    "                    print(result)\n",
    "                    txt.write(result)"
   ]
  },
  {
   "cell_type": "code",
   "execution_count": null,
   "metadata": {},
   "outputs": [],
   "source": [
    "acc=acc_calculate(labels,results)\n",
    "print('{0:.3%}'.format(acc))"
   ]
  },
  {
   "cell_type": "code",
   "execution_count": null,
   "metadata": {},
   "outputs": [],
   "source": []
  },
  {
   "source": [],
   "cell_type": "markdown",
   "metadata": {}
  },
  {
   "cell_type": "code",
   "execution_count": null,
   "metadata": {},
   "outputs": [],
   "source": []
  },
  {
   "cell_type": "code",
   "execution_count": null,
   "metadata": {},
   "outputs": [],
   "source": []
  },
  {
   "source": [
    "# 识别测试"
   ],
   "cell_type": "markdown",
   "metadata": {}
  },
  {
   "source": [
    "## 训练集"
   ],
   "cell_type": "markdown",
   "metadata": {}
  },
  {
   "cell_type": "code",
   "execution_count": null,
   "metadata": {},
   "outputs": [],
   "source": [
    "%%time\n",
    "results='crnn_train_result.txt'\n",
    "with open(results, 'w+') as txt:\n",
    "    with open(r'Z:\\Code\\Python\\datas\\Augment_meter\\crnn_train.txt') as val:\n",
    "        lines =val.readlines()\n",
    "        for line in lines:\n",
    "            img_name=line.split(' ')[0]\n",
    "            img_path=os.path.join('Z:\\Code\\Python\\datas\\Augment_meter\\imgs_east_512',img_name)\n",
    "            ims_re = location(location_model, img_path, cfg.pixel_threshold)\n",
    "            if len(ims_re) > 0:\n",
    "                re_text = recognition(recognition_model, ims_re[0])\n",
    "                result =  img_name+ \" \" + re_text + \"\\n\"\n",
    "                print(result)\n",
    "                txt.write(result)"
   ]
  },
  {
   "cell_type": "code",
   "execution_count": null,
   "metadata": {},
   "outputs": [],
   "source": [
    "acc=acc_calculate(labels,results)\n",
    "print('{0:.3%}'.format(acc))"
   ]
  },
  {
   "source": [
    "## 验证集"
   ],
   "cell_type": "markdown",
   "metadata": {}
  },
  {
   "cell_type": "code",
   "execution_count": null,
   "metadata": {},
   "outputs": [],
   "source": [
    "%%time\n",
    "results='crnn_val_result.txt'\n",
    "with open(results, 'w+') as txt:\n",
    "    with open(r'Z:\\Code\\Python\\datas\\Augment_meter\\crnn_val.txt') as val:\n",
    "        lines =val.readlines()\n",
    "        for line in lines:\n",
    "            img_name=line.split(' ')[0]\n",
    "            img_path=os.path.join('Z:\\Code\\Python\\datas\\Augment_meter\\imgs_east_512',img_name)\n",
    "            ims_re = location(location_model, img_path, cfg.pixel_threshold)\n",
    "            if len(ims_re) > 0:\n",
    "                for i in range(len(ims_re)):\n",
    "                    re_text = recognition(recognition_model, ims_re[i])\n",
    "                    result =  img_name+ \" \" + re_text + \"\\n\"\n",
    "                    print(result)\n",
    "                    txt.write(result)"
   ]
  },
  {
   "cell_type": "code",
   "execution_count": null,
   "metadata": {},
   "outputs": [],
   "source": [
    "acc=acc_calculate(labels,results)\n",
    "print('{0:.3%}'.format(acc))"
   ]
  },
  {
   "cell_type": "code",
   "execution_count": null,
   "metadata": {},
   "outputs": [],
   "source": []
  },
  {
   "source": [
    "# 文件夹中图片测试"
   ],
   "cell_type": "markdown",
   "metadata": {}
  },
  {
   "cell_type": "code",
   "execution_count": null,
   "metadata": {},
   "outputs": [],
   "source": [
    "%%time\n",
    "results='demo.txt'\n",
    "with open(results, 'w+') as txt:\n",
    "    imgs = os.listdir('demo')\n",
    "    for img in imgs:\n",
    "        img_path = os.path.join('demo', img)\n",
    "        ims_re = location(location_model, img_path, cfg.pixel_threshold)\n",
    "        if len(ims_re) > 0:\n",
    "            for i in range(len(ims_re)):\n",
    "                re_text = recognition(recognition_model, ims_re[i])\n",
    "                result = img + \" \" + re_text + \"\\n\"\n",
    "                print(result)\n",
    "                txt.write(result)"
   ]
  },
  {
   "cell_type": "code",
   "execution_count": null,
   "metadata": {},
   "outputs": [],
   "source": [
    "acc=acc_calculate(labels,results)\n",
    "print('{0:.3%}'.format(acc))                "
   ]
  },
  {
   "cell_type": "code",
   "execution_count": null,
   "metadata": {},
   "outputs": [],
   "source": []
  }
 ]
}