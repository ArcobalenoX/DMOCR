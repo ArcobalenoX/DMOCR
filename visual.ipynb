{
 "cells": [
  {
   "cell_type": "code",
   "execution_count": 1,
   "metadata": {},
   "outputs": [],
   "source": [
    "import os\n",
    "import cv2\n",
    "import numpy as np\n",
    "from PIL import Image,ImageDraw\n",
    "import matplotlib.pyplot as plt \n",
    "%matplotlib inline\n",
    "\n",
    "import tensorflow as tf\n",
    "import tensorflow.keras.backend as ktf\n",
    "from tensorflow.keras.models import load_model,Model\n",
    "from tensorflow.keras.preprocessing import image\n",
    "from tensorflow.keras.utils import plot_model\n",
    "\n",
    "from location.network import *\n",
    "from recognition.network import *\n",
    "from util import *\n",
    "import cfg\n"
   ]
  },
  {
   "cell_type": "markdown",
   "metadata": {},
   "source": [
    "## 模型载入"
   ]
  },
  {
   "cell_type": "code",
   "execution_count": 2,
   "metadata": {},
   "outputs": [
    {
     "output_type": "stream",
     "name": "stdout",
     "text": "(None, 128, 128, 7)\nModel: \"Location\"\n__________________________________________________________________________________________________\nLayer (type)                    Output Shape         Param #     Connected to                     \n==================================================================================================\ninput_img (InputLayer)          [(None, 512, 512, 3) 0                                            \n__________________________________________________________________________________________________\nblock1_conv1 (Conv2D)           (None, 256, 256, 32) 896         input_img[0][0]                  \n__________________________________________________________________________________________________\nblock1_conv1_bn (BatchNormaliza (None, 256, 256, 32) 128         block1_conv1[0][0]               \n__________________________________________________________________________________________________\nblock1_conv1_act (Activation)   (None, 256, 256, 32) 0           block1_conv1_bn[0][0]            \n__________________________________________________________________________________________________\nblock1_conv2 (Conv2D)           (None, 256, 256, 64) 18496       block1_conv1_act[0][0]           \n__________________________________________________________________________________________________\nblock1_conv2_bn (BatchNormaliza (None, 256, 256, 64) 256         block1_conv2[0][0]               \n__________________________________________________________________________________________________\nblock1_conv2_act (Activation)   (None, 256, 256, 64) 0           block1_conv2_bn[0][0]            \n__________________________________________________________________________________________________\nblock2_sepconv1 (SeparableConv2 (None, 256, 256, 128 8896        block1_conv2_act[0][0]           \n__________________________________________________________________________________________________\nblock2_sepconv1_bn (BatchNormal (None, 256, 256, 128 512         block2_sepconv1[0][0]            \n__________________________________________________________________________________________________\nblock2_sepconv1_act (Activation (None, 256, 256, 128 0           block2_sepconv1_bn[0][0]         \n__________________________________________________________________________________________________\nblock2_sepconv2 (SeparableConv2 (None, 256, 256, 128 17664       block2_sepconv1_act[0][0]        \n__________________________________________________________________________________________________\nblock2_sepconv2_bn (BatchNormal (None, 256, 256, 128 512         block2_sepconv2[0][0]            \n__________________________________________________________________________________________________\nconv2d (Conv2D)                 (None, 128, 128, 128 8320        block1_conv2_act[0][0]           \n__________________________________________________________________________________________________\nblock2_sepconv2_act (Activation (None, 256, 256, 128 0           block2_sepconv2_bn[0][0]         \n__________________________________________________________________________________________________\nbatch_normalization (BatchNorma (None, 128, 128, 128 512         conv2d[0][0]                     \n__________________________________________________________________________________________________\nblock2_pool (MaxPooling2D)      (None, 128, 128, 128 0           block2_sepconv2_act[0][0]        \n__________________________________________________________________________________________________\nactivation (Activation)         (None, 128, 128, 128 0           batch_normalization[0][0]        \n__________________________________________________________________________________________________\nadd (Add)                       (None, 128, 128, 128 0           block2_pool[0][0]                \n                                                                 activation[0][0]                 \n__________________________________________________________________________________________________\nblock3_sepconv1 (SeparableConv2 (None, 128, 128, 256 34176       add[0][0]                        \n__________________________________________________________________________________________________\nblock3_sepconv1_bn (BatchNormal (None, 128, 128, 256 1024        block3_sepconv1[0][0]            \n__________________________________________________________________________________________________\nblock3_sepconv1_act (Activation (None, 128, 128, 256 0           block3_sepconv1_bn[0][0]         \n__________________________________________________________________________________________________\nblock3_sepconv2 (SeparableConv2 (None, 128, 128, 256 68096       block3_sepconv1_act[0][0]        \n__________________________________________________________________________________________________\nblock3_sepconv2_bn (BatchNormal (None, 128, 128, 256 1024        block3_sepconv2[0][0]            \n__________________________________________________________________________________________________\nconv2d_1 (Conv2D)               (None, 64, 64, 256)  33024       add[0][0]                        \n__________________________________________________________________________________________________\nblock3_sepconv2_act (Activation (None, 128, 128, 256 0           block3_sepconv2_bn[0][0]         \n__________________________________________________________________________________________________\nbatch_normalization_1 (BatchNor (None, 64, 64, 256)  1024        conv2d_1[0][0]                   \n__________________________________________________________________________________________________\nblock3_pool (MaxPooling2D)      (None, 64, 64, 256)  0           block3_sepconv2_act[0][0]        \n__________________________________________________________________________________________________\nactivation_1 (Activation)       (None, 64, 64, 256)  0           batch_normalization_1[0][0]      \n__________________________________________________________________________________________________\nadd_1 (Add)                     (None, 64, 64, 256)  0           block3_pool[0][0]                \n                                                                 activation_1[0][0]               \n__________________________________________________________________________________________________\nblock4_sepconv1 (SeparableConv2 (None, 64, 64, 512)  133888      add_1[0][0]                      \n__________________________________________________________________________________________________\nblock4_sepconv1_bn (BatchNormal (None, 64, 64, 512)  2048        block4_sepconv1[0][0]            \n__________________________________________________________________________________________________\nblock4_sepconv1_act (Activation (None, 64, 64, 512)  0           block4_sepconv1_bn[0][0]         \n__________________________________________________________________________________________________\nblock4_sepconv2 (SeparableConv2 (None, 64, 64, 512)  267264      block4_sepconv1_act[0][0]        \n__________________________________________________________________________________________________\nblock4_sepconv2_bn (BatchNormal (None, 64, 64, 512)  2048        block4_sepconv2[0][0]            \n__________________________________________________________________________________________________\nconv2d_2 (Conv2D)               (None, 32, 32, 512)  131584      add_1[0][0]                      \n__________________________________________________________________________________________________\nblock4_sepconv2_act (Activation (None, 64, 64, 512)  0           block4_sepconv2_bn[0][0]         \n__________________________________________________________________________________________________\nbatch_normalization_2 (BatchNor (None, 32, 32, 512)  2048        conv2d_2[0][0]                   \n__________________________________________________________________________________________________\nblock4_pool (MaxPooling2D)      (None, 32, 32, 512)  0           block4_sepconv2_act[0][0]        \n__________________________________________________________________________________________________\nactivation_2 (Activation)       (None, 32, 32, 512)  0           batch_normalization_2[0][0]      \n__________________________________________________________________________________________________\nadd_2 (Add)                     (None, 32, 32, 512)  0           block4_pool[0][0]                \n                                                                 activation_2[0][0]               \n__________________________________________________________________________________________________\nup_sampling2d (UpSampling2D)    (None, 64, 64, 512)  0           add_2[0][0]                      \n__________________________________________________________________________________________________\nconcatenate (Concatenate)       (None, 64, 64, 768)  0           up_sampling2d[0][0]              \n                                                                 add_1[0][0]                      \n__________________________________________________________________________________________________\nconv2d_3 (Conv2D)               (None, 64, 64, 128)  98432       concatenate[0][0]                \n__________________________________________________________________________________________________\nbatch_normalization_3 (BatchNor (None, 64, 64, 128)  512         conv2d_3[0][0]                   \n__________________________________________________________________________________________________\nactivation_3 (Activation)       (None, 64, 64, 128)  0           batch_normalization_3[0][0]      \n__________________________________________________________________________________________________\nconv2d_4 (Conv2D)               (None, 64, 64, 128)  147584      activation_3[0][0]               \n__________________________________________________________________________________________________\nbatch_normalization_4 (BatchNor (None, 64, 64, 128)  512         conv2d_4[0][0]                   \n__________________________________________________________________________________________________\nactivation_4 (Activation)       (None, 64, 64, 128)  0           batch_normalization_4[0][0]      \n__________________________________________________________________________________________________\nattention1 (CBAM)               (None, 64, 64, 128)  99          activation_4[0][0]               \n__________________________________________________________________________________________________\nup_sampling2d_1 (UpSampling2D)  (None, 128, 128, 128 0           attention1[0][0]                 \n__________________________________________________________________________________________________\nconcatenate_1 (Concatenate)     (None, 128, 128, 256 0           up_sampling2d_1[0][0]            \n                                                                 add[0][0]                        \n__________________________________________________________________________________________________\nconv2d_6 (Conv2D)               (None, 128, 128, 64) 16448       concatenate_1[0][0]              \n__________________________________________________________________________________________________\nbatch_normalization_5 (BatchNor (None, 128, 128, 64) 256         conv2d_6[0][0]                   \n__________________________________________________________________________________________________\nactivation_5 (Activation)       (None, 128, 128, 64) 0           batch_normalization_5[0][0]      \n__________________________________________________________________________________________________\nconv2d_7 (Conv2D)               (None, 128, 128, 64) 36928       activation_5[0][0]               \n__________________________________________________________________________________________________\nbatch_normalization_6 (BatchNor (None, 128, 128, 64) 256         conv2d_7[0][0]                   \n__________________________________________________________________________________________________\nactivation_6 (Activation)       (None, 128, 128, 64) 0           batch_normalization_6[0][0]      \n__________________________________________________________________________________________________\nattention2 (CBAM)               (None, 128, 128, 64) 99          activation_6[0][0]               \n__________________________________________________________________________________________________\nup_sampling2d_2 (UpSampling2D)  (None, 256, 256, 64) 0           attention2[0][0]                 \n__________________________________________________________________________________________________\nconcatenate_2 (Concatenate)     (None, 256, 256, 128 0           up_sampling2d_2[0][0]            \n                                                                 block1_conv2_act[0][0]           \n__________________________________________________________________________________________________\nconv2d_9 (Conv2D)               (None, 256, 256, 32) 4128        concatenate_2[0][0]              \n__________________________________________________________________________________________________\nbatch_normalization_7 (BatchNor (None, 256, 256, 32) 128         conv2d_9[0][0]                   \n__________________________________________________________________________________________________\nactivation_7 (Activation)       (None, 256, 256, 32) 0           batch_normalization_7[0][0]      \n__________________________________________________________________________________________________\nconv2d_10 (Conv2D)              (None, 256, 256, 32) 9248        activation_7[0][0]               \n__________________________________________________________________________________________________\nbatch_normalization_8 (BatchNor (None, 256, 256, 32) 128         conv2d_10[0][0]                  \n__________________________________________________________________________________________________\nactivation_8 (Activation)       (None, 256, 256, 32) 0           batch_normalization_8[0][0]      \n__________________________________________________________________________________________________\nattention3 (CBAM)               (None, 256, 256, 32) 99          activation_8[0][0]               \n__________________________________________________________________________________________________\nconv2d_12 (Conv2D)              (None, 128, 128, 32) 9248        attention3[0][0]                 \n__________________________________________________________________________________________________\ninside_score (Conv2D)           (None, 128, 128, 1)  33          conv2d_12[0][0]                  \n__________________________________________________________________________________________________\nside_vertex_code (Conv2D)       (None, 128, 128, 2)  66          conv2d_12[0][0]                  \n__________________________________________________________________________________________________\nside_vertex_coord (Conv2D)      (None, 128, 128, 4)  132         conv2d_12[0][0]                  \n__________________________________________________________________________________________________\ndetection (Concatenate)         (None, 128, 128, 7)  0           inside_score[0][0]               \n                                                                 side_vertex_code[0][0]           \n                                                                 side_vertex_coord[0][0]          \n==================================================================================================\nTotal params: 1,057,776\nTrainable params: 1,051,312\nNon-trainable params: 6,464\n__________________________________________________________________________________________________\n"
    }
   ],
   "source": [
    "location_model = Location().location_network()\n",
    "location_model.load_weights(cfg.location_weights)\n",
    "location_model.summary()\n",
    "\n",
    "#_, recognition_model = CRNN(cfg.width, cfg.height, cfg.label_len, cfg.characters).network()\n",
    "#recognition_model.load_weights(cfg.recognition_weights)\n",
    "#recognition_model.summary()\n"
   ]
  },
  {
   "cell_type": "markdown",
   "metadata": {},
   "source": [
    "## 可视化"
   ]
  },
  {
   "cell_type": "code",
   "execution_count": null,
   "metadata": {},
   "outputs": [],
   "source": [
    "plot_model(location_model, to_file='EAST_Net.png')"
   ]
  },
  {
   "cell_type": "code",
   "execution_count": null,
   "metadata": {},
   "outputs": [],
   "source": [
    "plot_model(recognition_model, to_file='CRNN_Net.png')"
   ]
  },
  {
   "cell_type": "code",
   "execution_count": null,
   "metadata": {},
   "outputs": [],
   "source": [
    "def conv_output(model,layer_name,img):\n",
    "    input_img = model.input\n",
    "    try:\n",
    "        # this is the placeholder for the conv output\n",
    "        out_conv = model.get_layer(layer_name).output\n",
    "    except:\n",
    "        raise Exception('Not layer named {}!'.format(layer_name))\n",
    "\n",
    "    # get the intermediate layer model\n",
    "    intermediate_layer_model = Model(inputs=input_img, outputs=out_conv)\n",
    "\n",
    "    # get the output of intermediate layer model\n",
    "    intermediate_output = intermediate_layer_model.predict(img)\n",
    "    \n",
    "    featurema_map=intermediate_output[0]\n",
    "    return featurema_map\n"
   ]
  },
  {
   "cell_type": "code",
   "execution_count": null,
   "metadata": {},
   "outputs": [],
   "source": [
    "def vis_conv(images, n,t):\n",
    "    \"\"\"visualize conv output and conv filter.\n",
    "\n",
    "    Args:\n",
    "           img: original image.\n",
    "           n: number of col and row.\n",
    "           t: vis type.\n",
    "           name: save name.\n",
    "    \"\"\"\n",
    "    size = images.shape[0]\n",
    "    margin = 0\n",
    "\n",
    "    if t == 'filter':\n",
    "        results = np.zeros((n * size + 7 * margin, n * size + 7 * margin, 3))\n",
    "    if t == 'conv':\n",
    "        results = np.zeros((n * size + 7 * margin, n * size + 7 * margin))\n",
    "\n",
    "    for i in range(n):\n",
    "        for j in range(n):\n",
    "            if t == 'filter':\n",
    "                filter_img = images[i + (j * n)]\n",
    "            if t == 'conv':\n",
    "                filter_img = images[..., i + (j * n)]\n",
    "            filter_img = cv2.resize(filter_img, (size, size))\n",
    "\n",
    "            # Put the result in the square `(i, j)` of the results grid\n",
    "            horizontal_start = i * size + i * margin\n",
    "            horizontal_end = horizontal_start + size\n",
    "            vertical_start = j * size + j * margin\n",
    "            vertical_end = vertical_start + size\n",
    "            if t == 'filter':\n",
    "                results[horizontal_start: horizontal_end, vertical_start: vertical_end, :] = filter_img\n",
    "            if t == 'conv':\n",
    "                results[horizontal_start: horizontal_end, vertical_start: vertical_end] = filter_img\n",
    "\n",
    "    # Display the results grid\n",
    "    return results"
   ]
  },
  {
   "cell_type": "code",
   "execution_count": null,
   "metadata": {},
   "outputs": [],
   "source": [
    "img = image.load_img('images/500.jpg')\n",
    "d_wight, d_height = resize_image(img, cfg.image_size)\n",
    "img = img.resize((d_wight, d_height), Image.NEAREST).convert('RGB')\n",
    "plt.imshow(img)\n",
    "img = image.img_to_array(img)\n",
    "img = img/255*2-1\n",
    "x = np.expand_dims(img, axis=0)"
   ]
  },
  {
   "cell_type": "code",
   "execution_count": 11,
   "metadata": {},
   "outputs": [
    {
     "output_type": "error",
     "ename": "TypeError",
     "evalue": "add() takes 1 positional argument but 2 were given",
     "traceback": [
      "\u001b[1;31m---------------------------------------------------------------------------\u001b[0m",
      "\u001b[1;31mTypeError\u001b[0m                                 Traceback (most recent call last)",
      "\u001b[1;32m<ipython-input-11-cfaa28bedd98>\u001b[0m in \u001b[0;36m<module>\u001b[1;34m\u001b[0m\n\u001b[1;32m----> 1\u001b[1;33m \u001b[0madd\u001b[0m\u001b[1;33m(\u001b[0m\u001b[1;36m3\u001b[0m\u001b[1;33m,\u001b[0m\u001b[1;36m2\u001b[0m\u001b[1;33m)\u001b[0m\u001b[1;33m\u001b[0m\u001b[1;33m\u001b[0m\u001b[0m\n\u001b[0m",
      "\u001b[1;31mTypeError\u001b[0m: add() takes 1 positional argument but 2 were given"
     ]
    }
   ],
   "source": []
  },
  {
   "cell_type": "code",
   "execution_count": null,
   "metadata": {},
   "outputs": [],
   "source": [
    "cout.shape"
   ]
  },
  {
   "cell_type": "code",
   "execution_count": 10,
   "metadata": {},
   "outputs": [
    {
     "output_type": "stream",
     "name": "stdout",
     "text": "0 input_img\n1 block1_conv1\n2 block1_conv1_bn\n3 block1_conv1_act\n4 block1_conv2\n5 block1_conv2_bn\n6 block1_conv2_act\n7 block2_sepconv1\n8 block2_sepconv1_bn\n9 block2_sepconv1_act\n10 block2_sepconv2\n11 block2_sepconv2_bn\n12 conv2d\n13 block2_sepconv2_act\n14 batch_normalization\n15 block2_pool\n16 activation\n17 add\n18 block3_sepconv1\n19 block3_sepconv1_bn\n20 block3_sepconv1_act\n21 block3_sepconv2\n22 block3_sepconv2_bn\n23 conv2d_1\n24 block3_sepconv2_act\n25 batch_normalization_1\n26 block3_pool\n27 activation_1\n28 add_1\n29 block4_sepconv1\n30 block4_sepconv1_bn\n31 block4_sepconv1_act\n32 block4_sepconv2\n33 block4_sepconv2_bn\n34 conv2d_2\n35 block4_sepconv2_act\n36 batch_normalization_2\n37 block4_pool\n38 activation_2\n39 add_2\n40 up_sampling2d\n41 concatenate\n42 conv2d_3\n43 batch_normalization_3\n44 activation_3\n45 conv2d_4\n46 batch_normalization_4\n47 activation_4\n48 attention1\n49 up_sampling2d_1\n50 concatenate_1\n51 conv2d_6\n52 batch_normalization_5\n53 activation_5\n54 conv2d_7\n55 batch_normalization_6\n56 activation_6\n57 attention2\n58 up_sampling2d_2\n59 concatenate_2\n60 conv2d_9\n61 batch_normalization_7\n62 activation_7\n63 conv2d_10\n64 batch_normalization_8\n65 activation_8\n66 attention3\n67 conv2d_12\n68 inside_score\n69 side_vertex_code\n70 side_vertex_coord\n71 detection\n"
    }
   ],
   "source": [
    "for index,layer in enumerate(location_model.layers):\n",
    "    print(index,layer.name)"
   ]
  },
  {
   "cell_type": "code",
   "execution_count": 4,
   "metadata": {},
   "outputs": [
    {
     "output_type": "stream",
     "name": "stdout",
     "text": "<generator object <genexpr> at 0x0000019FD9F9DC00>\n"
    }
   ],
   "source": [
    "print(layer.output for layer in location_model.layers)"
   ]
  },
  {
   "cell_type": "code",
   "execution_count": null,
   "metadata": {},
   "outputs": [],
   "source": [
    "layer_name='block3_sepconv2'\n",
    "#layer_name='block4_pool'\n",
    "#layer_name='up_sampling2d_2'\n",
    "#layer_name='conv2d_6'\n",
    "#layer_name='concatenate_1'\n",
    "#layer_name='att'\n",
    "#layer_name='inside_score'\n",
    "#layer_name='side_vertex_code'\n",
    "#layer_name='side_vertex_coord'\n",
    "cout=conv_output(location_model,layer_name,x)\n",
    "feamap=vis_conv(cout,1,'conv')\n",
    "plt.imshow(feamap)"
   ]
  },
  {
   "cell_type": "code",
   "execution_count": null,
   "metadata": {},
   "outputs": [],
   "source": [
    "plt.figure(figsize=(5,5))\n",
    "for i in range(2,5):\n",
    "    layer_name='block'+str(i)+'_pool'\n",
    "    cout=conv_output(location_model,layer_name,x)\n",
    "    y=cout[:,:,9:12]\n",
    "    \n",
    "    plt.subplot(1,5,i+1)\n",
    "    plt.title(layer_name)\n",
    "    plt.xlabel('off')\n",
    "    plt.imshow(y)"
   ]
  },
  {
   "cell_type": "code",
   "execution_count": null,
   "metadata": {},
   "outputs": [],
   "source": [
    "n=3\n",
    "for i in range(n):\n",
    "    if i==0:\n",
    "        layer_name='up_sampling2d'\n",
    "    else:\n",
    "        layer_name='up_sampling2d_'+str(i)\n",
    "    y=conv_output(location_model,layer_name,x)[:,:,:]\n",
    "    #plt.figure(dpi=50)\n",
    "    #plt.figure(figsize=(10,10),dpi=100)\n",
    "    #plt.figure(i+1,figsize=(10,10),dpi=600)\n",
    "    plt.subplot(1,n,i+1)\n",
    "\n",
    "    plt.xlabel(layer_name)\n",
    "    plt.imshow(y)\n",
    "    #plt.show()"
   ]
  }
 ],
 "metadata": {
  "kernelspec": {
   "display_name": "Python 3",
   "language": "python",
   "name": "python3"
  },
  "language_info": {
   "codemirror_mode": {
    "name": "ipython",
    "version": 3
   },
   "file_extension": ".py",
   "mimetype": "text/x-python",
   "name": "python",
   "nbconvert_exporter": "python",
   "pygments_lexer": "ipython3",
   "version": "3.7.3-final"
  }
 },
 "nbformat": 4,
 "nbformat_minor": 2
}